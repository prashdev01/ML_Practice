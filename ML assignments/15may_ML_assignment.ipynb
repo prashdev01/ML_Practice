{
 "cells": [
  {
   "cell_type": "markdown",
   "metadata": {},
   "source": [
    "# **Q1- Explain the following with an example**\n",
    "- a) Artificial intelogence\n",
    "- b) Machine Learning,\n",
    "- c) Deep Learning"
   ]
  },
  {
   "cell_type": "markdown",
   "metadata": {},
   "source": [
    "- **Artificial inteligence**\n",
    "(AI) is broad term that refers to the ability of machine to mimic human inteligence , AI encompasses a wide range of technology, including machine learning , deep learning , natural language processing , computer vision ,\n",
    "- Examples: \n",
    "self driving cars , , which can navigate roads and avoid obstacles without human input.\n",
    "\n",
    "- **Machine Learning (ML)**\n",
    "(ML) is a subset of AI that allows machine to learn without being explicitaly prgrammed. ML algorithms are trained on data, and they used this data to learn how to perform tasks. for Example an ML algorithm are trained on a dataset of images of cats and dogs, and it would learn to identify cats and dog in new images.\n",
    "- Example: ML is used to personilize recomendations for products and services. For example, Netflix uses ML to recommend movies and TV shows to its sure \n",
    "\n",
    "- **Deep Learning (DL):**\n",
    "DL is a subset of ML that uses artificial neural networks to learn from data. Neural networks are inspired by the way the human brain works , and they are able to learn complex pattern in data. Dl is often used for task such as image recognition , natural language processing, and speech recognition \n",
    "- Example:\n",
    "DL is used to build facial recognition software which can be used to identify people in images or videos "
   ]
  },
  {
   "cell_type": "markdown",
   "metadata": {},
   "source": [
    "# **Q2- What is supervised machine learning? list some example of supervised machine learning**"
   ]
  },
  {
   "cell_type": "markdown",
   "metadata": {},
   "source": [
    "## supervised machine learning is the one of the type of machine learning where the model is trained on the labeled data. The labeled data neans that each data point in the dataset has known output value for new data points based on the labeled data. \n",
    "some example of supervised machine learning include: \n",
    "\n",
    "- **classification**:\n",
    "this type of Supervised ML is used to classify data into diffrent categories. for Example a classification model coulde be used to clearify emails as spam of not spam, or to classify images as cats or dogs\n",
    "\n",
    "- **Regrassion**:\n",
    "this type of supervised machine learning used to predict continuous value. for example, a regrassion model could be used to predict the price of a house based on its features , or to predict the number of sales a company will make in the next quarter. \n"
   ]
  },
  {
   "cell_type": "markdown",
   "metadata": {},
   "source": [
    "# **Q3- What is unsupervised learning List some examples of unsupervised learning.**"
   ]
  },
  {
   "cell_type": "markdown",
   "metadata": {},
   "source": [
    "## unsupervised learning is a type of machine learning where the model is trainde on the dataset of a unlabled data. The unlabeled data means that each data point in the dataset does not have ant known output value. the model learns to find the pattern in the data and to group similar data points together. \n",
    "\n",
    "some example of  unsupervised learning include: \n",
    "- **clustering** : clustering is a type of unsupervised learning that is used to group that data points together based on their similarities. for example , a clustering algorithms could be used to gruop customers based on their buying habits, or to group images together based on their content.\n",
    "- **Dimensionality reduction** : Dimensionality reduction is a type of unsuperbised learning that is used to to reduce the number of features in the dataset. this can be helpful for making the dataset easier to visualize or for making it easier to train a supervised machine learning model on the data. \n",
    "- **Anomally detection** : Anomally detection is a type of unsupervised learning that is used to identify data point that are outliers. Anomaly detection can be used to identify fraudant transactions , to identify defective product, or to identify patients who are at risk developing a disease. "
   ]
  },
  {
   "cell_type": "markdown",
   "metadata": {},
   "source": [
    "# **Q4- What is the difference betwen AI, ML, DL, and DS?**"
   ]
  },
  {
   "cell_type": "markdown",
   "metadata": {},
   "source": [
    "- **Artificial inteligence (AI)**: \n",
    "it is a broad term that that refers the ability of the machines to mimic human inteligence. AI encompasses wide range of technologies, including machine learning , deep learning and natural language processing \n",
    "\n",
    "- **Machine learning (ML)** \n",
    "it is a subset of AI it allows machine to learn from data without being explicitily programmed. ML algorithms are trained on dataset of labeled data, and they learn to predict the output value for new  datapoint based on the labeled data. \n",
    "\n",
    "- **Deep learning (DL)**\n",
    "it is a subset of machine learning that uses artificial neural networks to learn from the data. neural networks are inspired by the human brains,  and they are able to learn complex patterns in data that would be difficult or impossible to learn with tradition ML algorithms. \n",
    "\n",
    "- **Data Science (DS)**\n",
    "is a field that combines computer science, statistics and bussiness inteligence to extract knowledge from data. Data scientist use a veriety of tools and techniques, including ML and DL to anylize data and solve problems "
   ]
  },
  {
   "cell_type": "markdown",
   "metadata": {},
   "source": [
    "# **Q5- What are the main differences betwen supervised, unsupervised, and semi-supervised learning?**"
   ]
  },
  {
   "cell_type": "markdown",
   "metadata": {},
   "source": [
    "the main diffrence between the supervised , unsupervised and semi supervised learning are as follows :\n",
    "| supervised learning | unsupervised learning | semi supervised|\n",
    "| ------------------  | --------------------- | --------------- |\n",
    "| where the model is trained on a dataset of labeled data . | where the model is trained on a dataset of labeled data | the model is trained on a dataset that contains both labeled and unlabeled data. |\n",
    "| gives some output | gruuped  the similar datapoints in the dataset | does the both|"
   ]
  },
  {
   "cell_type": "markdown",
   "metadata": {},
   "source": [
    "# **Q6- What is train, test and validation split? Explain the importance of each term.**"
   ]
  },
  {
   "cell_type": "markdown",
   "metadata": {},
   "source": [
    "when we are working an machine learning model , we some data that use to build the model and predict the outcome accurataly as possible , for that we have to train our model with some data as well test the model with some data as well. so we split the dataset into three part \n",
    "1. Train \n",
    "2. validation \n",
    "3. Test\n",
    "\n",
    "* Train : the train dataset is mainly used to train the model \n",
    "* Validation : the validation datset is used to increase the accuracy of the model by changing the values \n",
    "* Test : the Test dataset used when the model fully ready for working then we can measure the accuracy of the model."
   ]
  },
  {
   "cell_type": "markdown",
   "metadata": {},
   "source": [
    "# **Q7- How can unsupervised learning be used in anomaly detection?**"
   ]
  },
  {
   "cell_type": "markdown",
   "metadata": {},
   "source": [
    "- **Anomally detection** : Anomally detection is a type of unsupervised learning that is used to identify data point that are outliers. Anomaly detection can be used to identify fraudant transactions , to identify defective product, or to identify patients who are at risk developing a disease. "
   ]
  },
  {
   "cell_type": "markdown",
   "metadata": {},
   "source": [
    "\n",
    "# **Q8- List down some commonly used supervised learning algorithms and unsupervised learning algorithms.**"
   ]
  },
  {
   "cell_type": "markdown",
   "metadata": {},
   "source": [
    "**Supervised learning algorithms**\n",
    "\n",
    "- **Linear regression**: This algorithm is used to predict a continuous value based on a set of independent variables.\n",
    "- **Logistic regression**: This algorithm is used to predict a binary value (e.g., spam or not spam) based on a set of independent variables.\n",
    "- **Decision trees**: This algorithm is used to create a decision tree that can be used to predict the output value for new data points.\n",
    "- **Support vector** machines (SVMs): This algorithm is used to find the best hyperplane that separates two classes of data.\n",
    "- **Random forests**: This algorithm is a combination of multiple decision trees that are used to predict the output value for new data points.\n",
    "\n",
    "\n",
    "**Unsupervised learning algorithms**\n",
    "\n",
    "- **K-means clustering**: This algorithm is used to group data points together based on their similarities.\n",
    "- **Hierarchical clustering:** This algorithm is used to create a hierarchy of clusters that can be used to visualize the data.\n",
    "- **Principal component analysis** (PCA): This algorithm is used to reduce the dimensionality of a dataset while preserving the most important information.\n",
    "- **Anomaly detection:** This algorithm is used to identify data points that are outliers.\n",
    "- **Neural networks:** This algorithm is a powerful machine learning algorithm that can be used for both supervised and unsupervised learning tasks."
   ]
  }
 ],
 "metadata": {
  "kernelspec": {
   "display_name": "Python 3",
   "language": "python",
   "name": "python3"
  },
  "language_info": {
   "codemirror_mode": {
    "name": "ipython",
    "version": 3
   },
   "file_extension": ".py",
   "mimetype": "text/x-python",
   "name": "python",
   "nbconvert_exporter": "python",
   "pygments_lexer": "ipython3",
   "version": "3.11.3"
  },
  "orig_nbformat": 4
 },
 "nbformat": 4,
 "nbformat_minor": 2
}
