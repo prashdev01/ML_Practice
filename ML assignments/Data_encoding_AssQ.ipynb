{
 "cells": [
  {
   "cell_type": "code",
   "execution_count": null,
   "metadata": {},
   "outputs": [],
   "source": [
    "\n",
    "\n",
    "\n",
    "# Q4. Suppose you have a dataset containing categorical data with 5 unique values. Which encoding\n",
    "# technique would you use to transform this data into a format suitable for machine learning algorithms?\n",
    "# Explain why you made this choice.\n",
    "# Q5. In a machine learning project, you have a dataset with 1000 rows and 5 columns. Two of the columns\n",
    "# are categorical, and the remaining three columns are numerical. If you were to use nominal encoding to\n",
    "# transform the categorical data, how many new columns would be created? Show your calculations.\n",
    "# Q6. You are working with a dataset containing information about different types of animals, including their\n",
    "# species, habitat, and diet. Which encoding technique would you use to transform the categorical data into\n",
    "# a format suitable for machine learning algorithms? Justify your answer.\n",
    "# Q7.You are working on a project that involves predicting customer churn for a telecommunications\n",
    "# company. You have a dataset with 5 features, including the customer's gender, age, contract type,\n",
    "# monthly charges, and tenure. Which encoding technique(s) would you use to transform the categorical\n",
    "# data into numerical data? Provide a step-by-step explanation of how you would implement the encoding."
   ]
  },
  {
   "attachments": {},
   "cell_type": "markdown",
   "metadata": {},
   "source": [
    "# Q1. What is data encoding? How is it useful in data science?"
   ]
  },
  {
   "attachments": {},
   "cell_type": "markdown",
   "metadata": {},
   "source": [
    "## in data science we are typically working on datasets to train our model to perform well, so its not necessary that the dataset we have should always have the numerical values in it some of them are categorical features ,so we can feed the categorical features to our model directly , instead of that we can convert the categorical features into numerical . the techinque of converting an categorical featurs inot numericals is called the data encoding"
   ]
  },
  {
   "attachments": {},
   "cell_type": "markdown",
   "metadata": {},
   "source": [
    "# Q2. What is nominal encoding? Provide an example of how you would use it in a real-world scenario."
   ]
  },
  {
   "attachments": {},
   "cell_type": "markdown",
   "metadata": {},
   "source": [
    "# nomminal encoding is a technique used to transform categorical veraable that have no internsic order into numrical valuesthat can be used in machine learning model. one common method for nominal encoding is ONE HOT encoding, which creates binary vector for each catagory in the variable. \n",
    "\n",
    "- Examaple: suppose we have an data detaset which has a column name genders, which has only two unique values , but there is no ranking or not any order present between them , so this can be a perfect example for the nominal encoding"
   ]
  },
  {
   "attachments": {},
   "cell_type": "markdown",
   "metadata": {},
   "source": [
    "# Q3. In what situations is nominal encoding preferred over one-hot encoding? Provide a practical example."
   ]
  },
  {
   "attachments": {},
   "cell_type": "markdown",
   "metadata": {},
   "source": [
    "## nominal encoding is usually used when the number of unique categeries in feature are less than five , so we can use the above example for nominal encoding because it has only two unique categeries in feature which are male or female"
   ]
  },
  {
   "attachments": {},
   "cell_type": "markdown",
   "metadata": {},
   "source": []
  }
 ],
 "metadata": {
  "language_info": {
   "name": "python"
  },
  "orig_nbformat": 4
 },
 "nbformat": 4,
 "nbformat_minor": 2
}
