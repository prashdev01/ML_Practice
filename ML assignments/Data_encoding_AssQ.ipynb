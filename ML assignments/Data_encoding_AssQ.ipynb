{
 "cells": [
  {
   "attachments": {},
   "cell_type": "markdown",
   "metadata": {},
   "source": [
    "# Q1. What is data encoding? How is it useful in data science?"
   ]
  },
  {
   "attachments": {},
   "cell_type": "markdown",
   "metadata": {},
   "source": [
    "## in data science we are typically working on datasets to train our model to perform well, so its not necessary that the dataset we have should always have the numerical values in it some of them are categorical features ,so we can feed the categorical features to our model directly , instead of that we can convert the categorical features into numerical . the techinque of converting an categorical featurs inot numericals is called the data encoding"
   ]
  },
  {
   "attachments": {},
   "cell_type": "markdown",
   "metadata": {},
   "source": []
  },
  {
   "attachments": {},
   "cell_type": "markdown",
   "metadata": {},
   "source": [
    "# Q2. What is nominal encoding? Provide an example of how you would use it in a real-world scenario."
   ]
  },
  {
   "attachments": {},
   "cell_type": "markdown",
   "metadata": {},
   "source": [
    "# nomminal encoding is a technique used to transform categorical veraable that have no internsic order into numrical valuesthat can be used in machine learning model. one common method for nominal encoding is ONE HOT encoding, which creates binary vector for each catagory in the variable. \n",
    "\n",
    "- Examaple: suppose we have an data detaset which has a column name genders, which has only two unique values , but there is no ranking or not any order present between them , so this can be a perfect example for the nominal encoding"
   ]
  },
  {
   "attachments": {},
   "cell_type": "markdown",
   "metadata": {},
   "source": []
  },
  {
   "attachments": {},
   "cell_type": "markdown",
   "metadata": {},
   "source": [
    "# Q3. In what situations is nominal encoding preferred over one-hot encoding? Provide a practical example."
   ]
  },
  {
   "attachments": {},
   "cell_type": "markdown",
   "metadata": {},
   "source": [
    "## nominal encoding is usually used when the number of unique categeries in feature are less than five , so we can use the above example for nominal encoding because it has only two unique categeries in feature which are male or female"
   ]
  },
  {
   "attachments": {},
   "cell_type": "markdown",
   "metadata": {},
   "source": []
  },
  {
   "attachments": {},
   "cell_type": "markdown",
   "metadata": {},
   "source": [
    "\n",
    "# Q4. Suppose you have a dataset containing categorical data with 5 unique values. Which encoding technique would you use to transform this data into a format suitable for machine learning algorithms? Explain why you made this choice."
   ]
  },
  {
   "attachments": {},
   "cell_type": "markdown",
   "metadata": {},
   "source": [
    "###  in the above use cases the one-hot encoding should be the best choice , one hot encoding creates an binary columes for each unique value in the dataset , that indicates pressence or absences of that values in the dataset\n",
    "\n",
    "here are some reasons why one-hot encoding is sutable choice for the given example\n",
    "- preserving distinctness \n",
    "- Avoiding ordinal Assumption  \n",
    "- compatibility with machine learning algorithms\n",
    "- Reducing bias"
   ]
  },
  {
   "attachments": {},
   "cell_type": "markdown",
   "metadata": {},
   "source": []
  },
  {
   "attachments": {},
   "cell_type": "markdown",
   "metadata": {},
   "source": [
    "\n",
    "# Q5. In a machine learning project, you have a dataset with 1000 rows and 5 columns. Two of the columns are categorical, and the remaining three columns are numerical. If you were to use nominal encoding to transform the categorical data, how many new columns would be created? Show your calculations."
   ]
  },
  {
   "attachments": {},
   "cell_type": "markdown",
   "metadata": {},
   "source": [
    "### if we use the nominal encoding to transform the two categorical columns in the dataeset , we will create a new columns based on the numner of unique caregeries  present in each columns\n",
    "\n",
    "### to calculate the number of columns created for each categorical columns ,we need to count the unique categeries in each columns\n",
    "\n",
    "### Let's assume that first categorical columns has 4 unique categeries and the second catageries has 3 unique categeries .\n",
    "\n",
    "### the first categorical columns will create 4 new banary columns for each unique category .\n",
    "### the second categorical columns will create 3 new binary columns for each unque categery .\n",
    "### therefore the total number of new columns created by nominal encoding for both categorical columns is 4+3=7 \n"
   ]
  },
  {
   "attachments": {},
   "cell_type": "markdown",
   "metadata": {},
   "source": []
  },
  {
   "attachments": {},
   "cell_type": "markdown",
   "metadata": {},
   "source": [
    "\n",
    "\n",
    "\n",
    "# Q6. You are working with a dataset containing information about different types of animals, including their  species, habitat, and diet. Which encoding technique would you use to transform the categorical data into a format suitable for machine learning algorithms? Justify your answer."
   ]
  },
  {
   "attachments": {},
   "cell_type": "markdown",
   "metadata": {},
   "source": [
    "### for the above case i think the combination of nominal encoding and ordinal encoding would be the best choice .\n",
    "\n",
    "\n",
    "here's why i made this choice \n",
    "\n",
    "### ONE-HOT encoding for nominal encoding : one hot encoding is sutable for transforming the categorical variable without any inherant order or hierarchy  such as the speacies of the animals. one hot encoding create binary columns foe each unique category, this approach preserves the distinctness of the each category and allows the machine algorithm to understand the categorical diffrences effectivaly"
   ]
  },
  {
   "attachments": {},
   "cell_type": "markdown",
   "metadata": {},
   "source": [
    "# Q7.You are working on a project that involves predicting customer churn for a telecommunications company. You have a dataset with 5 features, including the customer's gender, age, contract type, monthly charges, and tenure. Which encoding technique(s) would you use to transform the categorical data into numerical data? Provide a step-by-step explanation of how you would implement the encoding."
   ]
  },
  {
   "attachments": {},
   "cell_type": "markdown",
   "metadata": {},
   "source": []
  }
 ],
 "metadata": {
  "language_info": {
   "name": "python"
  },
  "orig_nbformat": 4
 },
 "nbformat": 4,
 "nbformat_minor": 2
}
