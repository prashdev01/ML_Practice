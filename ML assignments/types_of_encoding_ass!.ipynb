{
 "cells": [
  {
   "cell_type": "code",
   "execution_count": 1,
   "metadata": {},
   "outputs": [],
   "source": [
    "\n",
    "# might choose one over the other.\n",
    "# Q2. Explain how Target Guided Ordinal Encoding works and provide an example of when you might use it in\n",
    "# a machine learning project.\n",
    "# Q3. Define covariance and explain why it is important in statistical analysis. How is covariance calculated?\n",
    "# Q4. For a dataset with the following categorical variables: Color (red, green, blue), Size (small, medium,\n",
    "# large), and Material (wood, metal, plastic), perform label encoding using Python's scikit-learn library.\n",
    "# Show your code and explain the output.\n",
    "# Q5. Calculate the covariance matrix for the following variables in a dataset: Age, Income, and Education\n",
    "# level. Interpret the results.\n",
    "# Q6. You are working on a machine learning project with a dataset containing several categorical\n",
    "# variables, including \"Gender\" (Male/Female), \"Education Level\" (High School/Bachelor's/Master's/PhD),\n",
    "# and \"Employment Status\" (Unemployed/Part-Time/Full-Time). Which encoding method would you use for\n",
    "# each variable, and why?\n",
    "# Q7. You are analyzing a dataset with two continuous variables, \"Temperature\" and \"Humidity\", and two\n",
    "# categorical variables, \"Weather Condition\" (Sunny/Cloudy/Rainy) and \"Wind Direction\" (North/South/\n",
    "# East/West). Calculate the covariance between each pair of variables and interpret the results."
   ]
  },
  {
   "cell_type": "markdown",
   "metadata": {},
   "source": [
    "# Q1. What is the difference between Ordinal Encoding and Label Encoding? Provide an example of when you"
   ]
  }
 ],
 "metadata": {
  "kernelspec": {
   "display_name": "Python 3",
   "language": "python",
   "name": "python3"
  },
  "language_info": {
   "codemirror_mode": {
    "name": "ipython",
    "version": 3
   },
   "file_extension": ".py",
   "mimetype": "text/x-python",
   "name": "python",
   "nbconvert_exporter": "python",
   "pygments_lexer": "ipython3",
   "version": "3.11.3"
  },
  "orig_nbformat": 4
 },
 "nbformat": 4,
 "nbformat_minor": 2
}
