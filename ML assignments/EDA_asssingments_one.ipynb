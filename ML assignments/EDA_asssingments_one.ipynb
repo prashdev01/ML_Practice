{
 "cells": [
  {
   "cell_type": "code",
   "execution_count": null,
   "metadata": {},
   "outputs": [],
   "source": [
    "# Q1. What are the key features of the wine quality data set? Discuss the importance of each feature in\n",
    "# predicting the quality of wine.\n",
    "# Q2. How did you handle missing data in the wine quality data set during the feature engineering process?\n",
    "# Discuss the advantages and disadvantages of different imputation techniques.\n",
    "# Q3. What are the key factors that affect students' performance in exams? How would you go about\n",
    "# analyzing these factors using statistical techniques?\n",
    "# Q4. Describe the process of feature engineering in the context of the student performance data set. How\n",
    "# did you select and transform the variables for your model?\n",
    "# Q5. Load the wine quality data set and perform exploratory data analysis (EDA) to identify the distribution\n",
    "# of each feature. Which feature(s) exhibit non-normality, and what transformations could be applied to\n",
    "# these features to improve normality?\n",
    "# Q6. Using the wine quality data set, perform principal component analysis (PCA) to reduce the number of\n",
    "# features. What is the minimum number of principal components required to explain 90% of the variance in\n",
    "# the data?\n",
    "# Note:- We can use Wine quality dataset and Student Performance Data set as per the discussion in lecture."
   ]
  }
 ],
 "metadata": {
  "language_info": {
   "name": "python"
  },
  "orig_nbformat": 4
 },
 "nbformat": 4,
 "nbformat_minor": 2
}
