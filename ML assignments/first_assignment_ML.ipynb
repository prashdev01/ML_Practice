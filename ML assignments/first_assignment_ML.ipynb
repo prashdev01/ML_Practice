{
 "cells": [
  {
   "cell_type": "code",
   "execution_count": null,
   "metadata": {},
   "outputs": [],
   "source": [
    "# QD- E=plain thK followin* with an K=amplK-F\n",
    "# C) Artificial IntKlli*KncJ\n",
    "# <) MachinK LKarnin,\n",
    "# I) DKKp LKarning\n",
    "# Q2- What is supKrvisKd lKarnin*? List somK K=amplKs of supKrvisKd lKarnin*.\n",
    "# Q3- GWhat is unsupKrvisKd lKarnin*? List somK K=amplKs of unsupKrvisKd lKarnin*.\n",
    "# Q4- What is thK diffKrKncK bKtwKKn AI, ML, DL, and DS?\n",
    "# Q5- What arK thK main diffKrKncKs bKtwKKn supKrvisKd, unsupKrvisKd, and sKmi-supKrvisKd lKarnin*?\n",
    "# Q6- What is train, tKst and validation split? E=plain thK importancK of Kach tKrm.\n",
    "# Q7- How can unsupKrvisKd lKarnin* bK usKd in anomaly dKtKction?\n",
    "# Q8- List down somK commonly usKd supKrvisKd lKarnin* al*orithms and unsupKrvisKd lKarnin*\n",
    "# al*orithms."
   ]
  }
 ],
 "metadata": {
  "language_info": {
   "name": "python"
  },
  "orig_nbformat": 4
 },
 "nbformat": 4,
 "nbformat_minor": 2
}
